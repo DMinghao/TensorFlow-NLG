{
 "cells": [
  {
   "cell_type": "code",
   "execution_count": 1,
   "metadata": {
    "execution": {
     "iopub.execute_input": "2021-01-08T06:02:32.450843Z",
     "iopub.status.busy": "2021-01-08T06:02:32.450228Z",
     "iopub.status.idle": "2021-01-08T06:02:38.562555Z",
     "shell.execute_reply": "2021-01-08T06:02:38.561893Z"
    },
    "id": "yG_n40gFzf9s"
   },
   "outputs": [],
   "source": [
    "import tensorflow as tf\n",
    "from tensorflow.keras.layers.experimental import preprocessing\n",
    "\n",
    "import numpy as np\n",
    "import os\n",
    "import time"
   ]
  },
  {
   "cell_type": "code",
   "execution_count": 2,
   "metadata": {},
   "outputs": [
    {
     "output_type": "stream",
     "name": "stdout",
     "text": [
      "2.3.1\nNum GPUs Available:  1\n"
     ]
    },
    {
     "output_type": "execute_result",
     "data": {
      "text/plain": [
       "[PhysicalDevice(name='/physical_device:GPU:0', device_type='GPU')]"
      ]
     },
     "metadata": {},
     "execution_count": 2
    }
   ],
   "source": [
    "# Use GPU if avaliable \n",
    "print(tf.__version__)\n",
    "tf.test.is_built_with_cuda()\n",
    "gpus = tf.config.experimental.list_physical_devices('GPU')\n",
    "for gpu in gpus: tf.config.experimental.set_memory_growth(gpu, True)\n",
    "print(\"Num GPUs Available: \", len(tf.config.experimental.list_physical_devices('GPU')))\n",
    "tf.config.experimental.list_physical_devices('GPU')"
   ]
  },
  {
   "cell_type": "markdown",
   "metadata": {
    "id": "EHDoRoc5PKWz"
   },
   "source": [
    "### Download the Shakespeare dataset\n",
    "\n",
    "Change the following line to run this code on your own data."
   ]
  },
  {
   "cell_type": "code",
   "execution_count": 3,
   "metadata": {
    "execution": {
     "iopub.execute_input": "2021-01-08T06:02:38.568421Z",
     "iopub.status.busy": "2021-01-08T06:02:38.567731Z",
     "iopub.status.idle": "2021-01-08T06:02:38.775530Z",
     "shell.execute_reply": "2021-01-08T06:02:38.775036Z"
    },
    "id": "pD_55cOxLkAb"
   },
   "outputs": [],
   "source": [
    "path_to_file = tf.keras.utils.get_file('shakespeare.txt', 'https://storage.googleapis.com/download.tensorflow.org/data/shakespeare.txt')"
   ]
  },
  {
   "cell_type": "code",
   "execution_count": 4,
   "metadata": {
    "execution": {
     "iopub.execute_input": "2021-01-08T06:02:38.780292Z",
     "iopub.status.busy": "2021-01-08T06:02:38.779583Z",
     "iopub.status.idle": "2021-01-08T06:02:38.783929Z",
     "shell.execute_reply": "2021-01-08T06:02:38.783438Z"
    },
    "id": "aavnuByVymwK"
   },
   "outputs": [
    {
     "output_type": "stream",
     "name": "stdout",
     "text": [
      "Length of text: 1115394 characters\n"
     ]
    }
   ],
   "source": [
    "# Read, then decode for py2 compat.\n",
    "text = open(path_to_file, 'rb').read().decode(encoding='utf-8')\n",
    "# length of text is the number of characters in it\n",
    "print('Length of text: {} characters'.format(len(text)))"
   ]
  },
  {
   "cell_type": "code",
   "execution_count": 5,
   "metadata": {
    "execution": {
     "iopub.execute_input": "2021-01-08T06:02:38.787695Z",
     "iopub.status.busy": "2021-01-08T06:02:38.787022Z",
     "iopub.status.idle": "2021-01-08T06:02:38.789258Z",
     "shell.execute_reply": "2021-01-08T06:02:38.789680Z"
    },
    "id": "Duhg9NrUymwO"
   },
   "outputs": [
    {
     "output_type": "stream",
     "name": "stdout",
     "text": [
      "First Citizen:\nBefore we proceed any further, hear me speak.\n\nAll:\nSpeak, speak.\n\nFirst Citizen:\nYou are all resolved rather to die than to famish?\n\nAll:\nResolved. resolved.\n\nFirst Citizen:\nFirst, you know Caius Marcius is chief enemy to the people.\n\n"
     ]
    }
   ],
   "source": [
    "# Take a look at the first 250 characters in text\n",
    "print(text[:250])"
   ]
  },
  {
   "cell_type": "code",
   "execution_count": 6,
   "metadata": {
    "execution": {
     "iopub.execute_input": "2021-01-08T06:02:38.808907Z",
     "iopub.status.busy": "2021-01-08T06:02:38.808247Z",
     "iopub.status.idle": "2021-01-08T06:02:38.810403Z",
     "shell.execute_reply": "2021-01-08T06:02:38.810821Z"
    },
    "id": "IlCgQBRVymwR"
   },
   "outputs": [
    {
     "output_type": "stream",
     "name": "stdout",
     "text": [
      "65 unique characters\n"
     ]
    }
   ],
   "source": [
    "# The unique characters in the file\n",
    "vocab = sorted(set(text))\n",
    "print('{} unique characters'.format(len(vocab)))"
   ]
  },
  {
   "cell_type": "markdown",
   "metadata": {
    "id": "rNnrKn_lL-IJ"
   },
   "source": [
    "## Process the text"
   ]
  },
  {
   "cell_type": "markdown",
   "metadata": {
    "id": "LFjSVAlWzf-N"
   },
   "source": [
    "### Vectorize the text\n",
    "\n",
    "Before training, you need to convert the strings to a numerical representation. \n",
    "\n",
    "The `preprocessing.StringLookup` layer can convert each character into a numeric ID. It just needs the text to be split into tokens first."
   ]
  },
  {
   "cell_type": "code",
   "execution_count": 7,
   "metadata": {
    "execution": {
     "iopub.execute_input": "2021-01-08T06:02:40.238188Z",
     "iopub.status.busy": "2021-01-08T06:02:40.235958Z",
     "iopub.status.idle": "2021-01-08T06:02:40.548888Z",
     "shell.execute_reply": "2021-01-08T06:02:40.549399Z"
    },
    "id": "a86OoYtO01go"
   },
   "outputs": [
    {
     "output_type": "execute_result",
     "data": {
      "text/plain": [
       "<tf.RaggedTensor [[b'a', b'b', b'c', b'd', b'e', b'f', b'g'], [b'x', b'y', b'z']]>"
      ]
     },
     "metadata": {},
     "execution_count": 7
    }
   ],
   "source": [
    "example_texts = ['abcdefg', 'xyz']\n",
    "\n",
    "chars = tf.strings.unicode_split(example_texts, input_encoding='UTF-8')\n",
    "chars"
   ]
  },
  {
   "cell_type": "markdown",
   "metadata": {
    "id": "1s4f1q3iqY8f"
   },
   "source": [
    "Now create the `preprocessing.StringLookup` layer:"
   ]
  },
  {
   "cell_type": "code",
   "execution_count": 8,
   "metadata": {
    "execution": {
     "iopub.execute_input": "2021-01-08T06:02:40.553962Z",
     "iopub.status.busy": "2021-01-08T06:02:40.553314Z",
     "iopub.status.idle": "2021-01-08T06:02:40.573967Z",
     "shell.execute_reply": "2021-01-08T06:02:40.573468Z"
    },
    "id": "6GMlCe3qzaL9"
   },
   "outputs": [],
   "source": [
    "ids_from_chars = preprocessing.StringLookup(\n",
    "    vocabulary=list(vocab))"
   ]
  },
  {
   "cell_type": "markdown",
   "metadata": {
    "id": "ZmX_jbgQqfOi"
   },
   "source": [
    "It converts form tokens to character IDs, padding with `0`:"
   ]
  },
  {
   "cell_type": "code",
   "execution_count": 9,
   "metadata": {
    "execution": {
     "iopub.execute_input": "2021-01-08T06:02:40.580123Z",
     "iopub.status.busy": "2021-01-08T06:02:40.578389Z",
     "iopub.status.idle": "2021-01-08T06:02:40.584767Z",
     "shell.execute_reply": "2021-01-08T06:02:40.584330Z"
    },
    "id": "WLv5Q_2TC2pc"
   },
   "outputs": [
    {
     "output_type": "execute_result",
     "data": {
      "text/plain": [
       "<tf.RaggedTensor [[41, 42, 43, 44, 45, 46, 47], [64, 65, 66]]>"
      ]
     },
     "metadata": {},
     "execution_count": 9
    }
   ],
   "source": [
    "ids = ids_from_chars(chars)\n",
    "ids"
   ]
  },
  {
   "cell_type": "markdown",
   "metadata": {
    "id": "tZfqhkYCymwX"
   },
   "source": [
    "Since the goal of this tutorial is to generate text, it will also be important to invert this representation and recover human-readable strings from it. For this you can use `preprocessing.StringLookup(..., invert=True)`.  "
   ]
  },
  {
   "cell_type": "markdown",
   "metadata": {
    "id": "uenivzwqsDhp"
   },
   "source": [
    "Note: Here instead of passing the original vocabulary generated with `sorted(set(text))` use the `get_vocabulary()` method of the `preprocessing.StringLookup` layer so that the padding and `[UNK]` tokens are set the same way."
   ]
  },
  {
   "cell_type": "code",
   "execution_count": 10,
   "metadata": {
    "execution": {
     "iopub.execute_input": "2021-01-08T06:02:40.593417Z",
     "iopub.status.busy": "2021-01-08T06:02:40.592759Z",
     "iopub.status.idle": "2021-01-08T06:02:40.595378Z",
     "shell.execute_reply": "2021-01-08T06:02:40.594932Z"
    },
    "id": "Wd2m3mqkDjRj"
   },
   "outputs": [],
   "source": [
    "chars_from_ids = tf.keras.layers.experimental.preprocessing.StringLookup(\n",
    "    vocabulary=ids_from_chars.get_vocabulary(), invert=True)"
   ]
  },
  {
   "cell_type": "markdown",
   "metadata": {
    "id": "pqTDDxS-s-H8"
   },
   "source": [
    "This layer recovers the characters from the vectors of IDs, and returns them as a `tf.RaggedTensor` of characters:"
   ]
  },
  {
   "cell_type": "code",
   "execution_count": 11,
   "metadata": {
    "execution": {
     "iopub.execute_input": "2021-01-08T06:02:40.599684Z",
     "iopub.status.busy": "2021-01-08T06:02:40.598971Z",
     "iopub.status.idle": "2021-01-08T06:02:40.602451Z",
     "shell.execute_reply": "2021-01-08T06:02:40.602838Z"
    },
    "id": "c2GCh0ySD44s"
   },
   "outputs": [
    {
     "output_type": "execute_result",
     "data": {
      "text/plain": [
       "<tf.RaggedTensor [[b'a', b'b', b'c', b'd', b'e', b'f', b'g'], [b'x', b'y', b'z']]>"
      ]
     },
     "metadata": {},
     "execution_count": 11
    }
   ],
   "source": [
    "chars = chars_from_ids(ids)\n",
    "chars"
   ]
  },
  {
   "cell_type": "markdown",
   "metadata": {
    "id": "-FeW5gqutT3o"
   },
   "source": [
    "You can `tf.strings.reduce_join` to join the characters back into strings. "
   ]
  },
  {
   "cell_type": "code",
   "execution_count": 12,
   "metadata": {
    "execution": {
     "iopub.execute_input": "2021-01-08T06:02:40.607078Z",
     "iopub.status.busy": "2021-01-08T06:02:40.606468Z",
     "iopub.status.idle": "2021-01-08T06:02:40.618731Z",
     "shell.execute_reply": "2021-01-08T06:02:40.619158Z"
    },
    "id": "zxYI-PeltqKP"
   },
   "outputs": [
    {
     "output_type": "execute_result",
     "data": {
      "text/plain": [
       "array([b'abcdefg', b'xyz'], dtype=object)"
      ]
     },
     "metadata": {},
     "execution_count": 12
    }
   ],
   "source": [
    "tf.strings.reduce_join(chars, axis=-1).numpy()"
   ]
  },
  {
   "cell_type": "code",
   "execution_count": 13,
   "metadata": {
    "execution": {
     "iopub.execute_input": "2021-01-08T06:02:40.623278Z",
     "iopub.status.busy": "2021-01-08T06:02:40.622621Z",
     "iopub.status.idle": "2021-01-08T06:02:40.624303Z",
     "shell.execute_reply": "2021-01-08T06:02:40.624693Z"
    },
    "id": "w5apvBDn9Ind"
   },
   "outputs": [],
   "source": [
    "def text_from_ids(ids):\n",
    "  return tf.strings.reduce_join(chars_from_ids(ids), axis=-1)"
   ]
  },
  {
   "cell_type": "markdown",
   "metadata": {
    "id": "bbmsf23Bymwe"
   },
   "source": [
    "### The prediction task"
   ]
  },
  {
   "cell_type": "markdown",
   "metadata": {
    "id": "wssHQ1oGymwe"
   },
   "source": [
    "Given a character, or a sequence of characters, what is the most probable next character? This is the task you're training the model to perform. The input to the model will be a sequence of characters, and you train the model to predict the output—the following character at each time step.\n",
    "\n",
    "Since RNNs maintain an internal state that depends on the previously seen elements, given all the characters computed until this moment, what is the next character?\n"
   ]
  },
  {
   "cell_type": "markdown",
   "metadata": {
    "id": "hgsVvVxnymwf"
   },
   "source": [
    "### Create training examples and targets\n",
    "\n",
    "Next divide the text into example sequences. Each input sequence will contain `seq_length` characters from the text.\n",
    "\n",
    "For each input sequence, the corresponding targets contain the same length of text, except shifted one character to the right.\n",
    "\n",
    "So break the text into chunks of `seq_length+1`. For example, say `seq_length` is 4 and our text is \"Hello\". The input sequence would be \"Hell\", and the target sequence \"ello\".\n",
    "\n",
    "To do this first use the `tf.data.Dataset.from_tensor_slices` function to convert the text vector into a stream of character indices."
   ]
  },
  {
   "cell_type": "code",
   "execution_count": 14,
   "metadata": {
    "execution": {
     "iopub.execute_input": "2021-01-08T06:02:40.631438Z",
     "iopub.status.busy": "2021-01-08T06:02:40.630587Z",
     "iopub.status.idle": "2021-01-08T06:02:41.163650Z",
     "shell.execute_reply": "2021-01-08T06:02:41.163109Z"
    },
    "id": "UopbsKi88tm5"
   },
   "outputs": [
    {
     "output_type": "execute_result",
     "data": {
      "text/plain": [
       "<tf.Tensor: shape=(1115394,), dtype=int64, numpy=array([20, 49, 58, ..., 47, 10,  2], dtype=int64)>"
      ]
     },
     "metadata": {},
     "execution_count": 14
    }
   ],
   "source": [
    "all_ids = ids_from_chars(tf.strings.unicode_split(text, 'UTF-8'))\n",
    "all_ids"
   ]
  },
  {
   "cell_type": "code",
   "execution_count": 15,
   "metadata": {
    "execution": {
     "iopub.execute_input": "2021-01-08T06:02:41.168329Z",
     "iopub.status.busy": "2021-01-08T06:02:41.167585Z",
     "iopub.status.idle": "2021-01-08T06:02:41.170448Z",
     "shell.execute_reply": "2021-01-08T06:02:41.169946Z"
    },
    "id": "qmxrYDCTy-eL"
   },
   "outputs": [],
   "source": [
    "ids_dataset = tf.data.Dataset.from_tensor_slices(all_ids)"
   ]
  },
  {
   "cell_type": "code",
   "execution_count": 16,
   "metadata": {
    "execution": {
     "iopub.execute_input": "2021-01-08T06:02:41.174671Z",
     "iopub.status.busy": "2021-01-08T06:02:41.173984Z",
     "iopub.status.idle": "2021-01-08T06:02:41.190280Z",
     "shell.execute_reply": "2021-01-08T06:02:41.189596Z"
    },
    "id": "cjH5v45-yqqH"
   },
   "outputs": [
    {
     "output_type": "stream",
     "name": "stdout",
     "text": [
      "F\ni\nr\ns\nt\n \nC\ni\nt\ni\n"
     ]
    }
   ],
   "source": [
    "for ids in ids_dataset.take(10):\n",
    "    print(chars_from_ids(ids).numpy().decode('utf-8'))"
   ]
  },
  {
   "cell_type": "code",
   "execution_count": 17,
   "metadata": {
    "execution": {
     "iopub.execute_input": "2021-01-08T06:02:41.194364Z",
     "iopub.status.busy": "2021-01-08T06:02:41.193599Z",
     "iopub.status.idle": "2021-01-08T06:02:41.195619Z",
     "shell.execute_reply": "2021-01-08T06:02:41.196088Z"
    },
    "id": "C-G2oaTxy6km"
   },
   "outputs": [],
   "source": [
    "seq_length = 100\n",
    "examples_per_epoch = len(text)//(seq_length+1)"
   ]
  },
  {
   "cell_type": "markdown",
   "metadata": {
    "id": "-ZSYAcQV8OGP"
   },
   "source": [
    "The `batch` method lets you easily convert these individual characters to sequences of the desired size."
   ]
  },
  {
   "cell_type": "code",
   "execution_count": 18,
   "metadata": {
    "execution": {
     "iopub.execute_input": "2021-01-08T06:02:41.200858Z",
     "iopub.status.busy": "2021-01-08T06:02:41.200168Z",
     "iopub.status.idle": "2021-01-08T06:02:41.210486Z",
     "shell.execute_reply": "2021-01-08T06:02:41.209953Z"
    },
    "id": "BpdjRO2CzOfZ"
   },
   "outputs": [
    {
     "output_type": "stream",
     "name": "stdout",
     "text": [
      "tf.Tensor(\n[b'F' b'i' b'r' b's' b't' b' ' b'C' b'i' b't' b'i' b'z' b'e' b'n' b':'\n b'\\n' b'B' b'e' b'f' b'o' b'r' b'e' b' ' b'w' b'e' b' ' b'p' b'r' b'o'\n b'c' b'e' b'e' b'd' b' ' b'a' b'n' b'y' b' ' b'f' b'u' b'r' b't' b'h'\n b'e' b'r' b',' b' ' b'h' b'e' b'a' b'r' b' ' b'm' b'e' b' ' b's' b'p'\n b'e' b'a' b'k' b'.' b'\\n' b'\\n' b'A' b'l' b'l' b':' b'\\n' b'S' b'p' b'e'\n b'a' b'k' b',' b' ' b's' b'p' b'e' b'a' b'k' b'.' b'\\n' b'\\n' b'F' b'i'\n b'r' b's' b't' b' ' b'C' b'i' b't' b'i' b'z' b'e' b'n' b':' b'\\n' b'Y'\n b'o' b'u' b' '], shape=(101,), dtype=string)\n"
     ]
    }
   ],
   "source": [
    "sequences = ids_dataset.batch(seq_length+1, drop_remainder=True)\n",
    "\n",
    "for seq in sequences.take(1):\n",
    "  print(chars_from_ids(seq))"
   ]
  },
  {
   "cell_type": "markdown",
   "metadata": {
    "id": "5PHW902-4oZt"
   },
   "source": [
    "It's easier to see what this is doing if you join the tokens back into strings:"
   ]
  },
  {
   "cell_type": "code",
   "execution_count": 19,
   "metadata": {
    "execution": {
     "iopub.execute_input": "2021-01-08T06:02:41.214792Z",
     "iopub.status.busy": "2021-01-08T06:02:41.214083Z",
     "iopub.status.idle": "2021-01-08T06:02:41.226070Z",
     "shell.execute_reply": "2021-01-08T06:02:41.225535Z"
    },
    "id": "QO32cMWu4a06"
   },
   "outputs": [
    {
     "output_type": "stream",
     "name": "stdout",
     "text": [
      "b'First Citizen:\\nBefore we proceed any further, hear me speak.\\n\\nAll:\\nSpeak, speak.\\n\\nFirst Citizen:\\nYou '\nb'are all resolved rather to die than to famish?\\n\\nAll:\\nResolved. resolved.\\n\\nFirst Citizen:\\nFirst, you k'\nb\"now Caius Marcius is chief enemy to the people.\\n\\nAll:\\nWe know't, we know't.\\n\\nFirst Citizen:\\nLet us ki\"\nb\"ll him, and we'll have corn at our own price.\\nIs't a verdict?\\n\\nAll:\\nNo more talking on't; let it be d\"\nb'one: away, away!\\n\\nSecond Citizen:\\nOne word, good citizens.\\n\\nFirst Citizen:\\nWe are accounted poor citi'\n"
     ]
    }
   ],
   "source": [
    "for seq in sequences.take(5):\n",
    "  print(text_from_ids(seq).numpy())"
   ]
  },
  {
   "cell_type": "markdown",
   "metadata": {
    "id": "UbLcIPBj_mWZ"
   },
   "source": [
    "For training you'll need a dataset of `(input, label)` pairs. Where `input` and \n",
    "`label` are sequences. At each time step the input is the current character and the label is the next character. \n",
    "\n",
    "Here's a function that takes a sequence as input, duplicates, and shifts it to align the input and label for each timestep:"
   ]
  },
  {
   "cell_type": "code",
   "execution_count": 20,
   "metadata": {
    "execution": {
     "iopub.execute_input": "2021-01-08T06:02:41.230426Z",
     "iopub.status.busy": "2021-01-08T06:02:41.229782Z",
     "iopub.status.idle": "2021-01-08T06:02:41.232693Z",
     "shell.execute_reply": "2021-01-08T06:02:41.232160Z"
    },
    "id": "9NGu-FkO_kYU"
   },
   "outputs": [],
   "source": [
    "def split_input_target(sequence):\n",
    "    input_text = sequence[:-1]\n",
    "    target_text = sequence[1:]\n",
    "    return input_text, target_text"
   ]
  },
  {
   "cell_type": "code",
   "execution_count": 21,
   "metadata": {
    "execution": {
     "iopub.execute_input": "2021-01-08T06:02:41.237368Z",
     "iopub.status.busy": "2021-01-08T06:02:41.236608Z",
     "iopub.status.idle": "2021-01-08T06:02:41.239478Z",
     "shell.execute_reply": "2021-01-08T06:02:41.239948Z"
    },
    "id": "WxbDTJTw5u_P"
   },
   "outputs": [
    {
     "output_type": "execute_result",
     "data": {
      "text/plain": [
       "(['T', 'e', 'n', 's', 'o', 'r', 'f', 'l', 'o'],\n",
       " ['e', 'n', 's', 'o', 'r', 'f', 'l', 'o', 'w'])"
      ]
     },
     "metadata": {},
     "execution_count": 21
    }
   ],
   "source": [
    "split_input_target(list(\"Tensorflow\"))"
   ]
  },
  {
   "cell_type": "code",
   "execution_count": 22,
   "metadata": {
    "execution": {
     "iopub.execute_input": "2021-01-08T06:02:41.275357Z",
     "iopub.status.busy": "2021-01-08T06:02:41.245026Z",
     "iopub.status.idle": "2021-01-08T06:02:41.297682Z",
     "shell.execute_reply": "2021-01-08T06:02:41.297094Z"
    },
    "id": "B9iKPXkw5xwa"
   },
   "outputs": [],
   "source": [
    "dataset = sequences.map(split_input_target)"
   ]
  },
  {
   "cell_type": "code",
   "execution_count": 23,
   "metadata": {
    "execution": {
     "iopub.execute_input": "2021-01-08T06:02:41.303364Z",
     "iopub.status.busy": "2021-01-08T06:02:41.302179Z",
     "iopub.status.idle": "2021-01-08T06:02:41.323661Z",
     "shell.execute_reply": "2021-01-08T06:02:41.323117Z"
    },
    "id": "GNbw-iR0ymwj"
   },
   "outputs": [
    {
     "output_type": "stream",
     "name": "stdout",
     "text": [
      "Input : b'First Citizen:\\nBefore we proceed any further, hear me speak.\\n\\nAll:\\nSpeak, speak.\\n\\nFirst Citizen:\\nYou'\nTarget: b'irst Citizen:\\nBefore we proceed any further, hear me speak.\\n\\nAll:\\nSpeak, speak.\\n\\nFirst Citizen:\\nYou '\n"
     ]
    }
   ],
   "source": [
    "for input_example, target_example in  dataset.take(1):\n",
    "    print(\"Input :\", text_from_ids(input_example).numpy())\n",
    "    print(\"Target:\", text_from_ids(target_example).numpy())"
   ]
  },
  {
   "cell_type": "markdown",
   "metadata": {
    "id": "MJdfPmdqzf-R"
   },
   "source": [
    "### Create training batches\n",
    "\n",
    "You used `tf.data` to split the text into manageable sequences. But before feeding this data into the model, you need to shuffle the data and pack it into batches."
   ]
  },
  {
   "cell_type": "code",
   "execution_count": 24,
   "metadata": {
    "execution": {
     "iopub.execute_input": "2021-01-08T06:02:41.328843Z",
     "iopub.status.busy": "2021-01-08T06:02:41.328105Z",
     "iopub.status.idle": "2021-01-08T06:02:41.334046Z",
     "shell.execute_reply": "2021-01-08T06:02:41.333389Z"
    },
    "id": "p2pGotuNzf-S"
   },
   "outputs": [
    {
     "output_type": "execute_result",
     "data": {
      "text/plain": [
       "<PrefetchDataset shapes: ((64, 100), (64, 100)), types: (tf.int64, tf.int64)>"
      ]
     },
     "metadata": {},
     "execution_count": 24
    }
   ],
   "source": [
    "# Batch size\n",
    "BATCH_SIZE = 64\n",
    "\n",
    "# Buffer size to shuffle the dataset\n",
    "# (TF data is designed to work with possibly infinite sequences,\n",
    "# so it doesn't attempt to shuffle the entire sequence in memory. Instead,\n",
    "# it maintains a buffer in which it shuffles elements).\n",
    "BUFFER_SIZE = 10000\n",
    "\n",
    "dataset = (\n",
    "    dataset\n",
    "    .shuffle(BUFFER_SIZE)\n",
    "    .batch(BATCH_SIZE, drop_remainder=True)\n",
    "    .prefetch(tf.data.experimental.AUTOTUNE))\n",
    "\n",
    "dataset"
   ]
  },
  {
   "cell_type": "markdown",
   "metadata": {
    "id": "r6oUuElIMgVx"
   },
   "source": [
    "## Build The Model"
   ]
  },
  {
   "cell_type": "markdown",
   "metadata": {
    "id": "m8gPwEjRzf-Z"
   },
   "source": [
    "This section defines the model as a `keras.Model` subclass (For details see [Making new Layers and Models via subclassing](https://www.tensorflow.org/guide/keras/custom_layers_and_models)). \n",
    "\n",
    "This model has three layers:\n",
    "\n",
    "* `tf.keras.layers.Embedding`: The input layer. A trainable lookup table that will map each character-ID to a vector with `embedding_dim` dimensions;\n",
    "* `tf.keras.layers.GRU`: A type of RNN with size `units=rnn_units` (You can also use an LSTM layer here.)\n",
    "* `tf.keras.layers.Dense`: The output layer, with `vocab_size` outputs. It outpts one logit for each character in the vocabulary. These are the log-liklihood of each character according to the model."
   ]
  },
  {
   "cell_type": "code",
   "execution_count": 25,
   "metadata": {
    "execution": {
     "iopub.execute_input": "2021-01-08T06:02:41.338397Z",
     "iopub.status.busy": "2021-01-08T06:02:41.337711Z",
     "iopub.status.idle": "2021-01-08T06:02:41.340015Z",
     "shell.execute_reply": "2021-01-08T06:02:41.339523Z"
    },
    "id": "zHT8cLh7EAsg"
   },
   "outputs": [],
   "source": [
    "# Length of the vocabulary in chars\n",
    "vocab_size = len(vocab)\n",
    "\n",
    "# The embedding dimension\n",
    "embedding_dim = 256\n",
    "\n",
    "# Number of RNN units\n",
    "rnn_units = 1024"
   ]
  },
  {
   "cell_type": "code",
   "execution_count": 26,
   "metadata": {
    "execution": {
     "iopub.execute_input": "2021-01-08T06:02:41.347087Z",
     "iopub.status.busy": "2021-01-08T06:02:41.346475Z",
     "iopub.status.idle": "2021-01-08T06:02:41.348148Z",
     "shell.execute_reply": "2021-01-08T06:02:41.348536Z"
    },
    "id": "wj8HQ2w8z4iO"
   },
   "outputs": [],
   "source": [
    "class MyModel(tf.keras.Model):\n",
    "  def __init__(self, vocab_size, embedding_dim, rnn_units):\n",
    "    super().__init__(self)\n",
    "    self.embedding = tf.keras.layers.Embedding(vocab_size, embedding_dim)\n",
    "    self.gru = tf.keras.layers.GRU(rnn_units,\n",
    "                                   return_sequences=True, \n",
    "                                   return_state=True)\n",
    "    self.dense = tf.keras.layers.Dense(vocab_size)\n",
    "\n",
    "  def call(self, inputs, states=None, return_state=False, training=False):\n",
    "    x = inputs\n",
    "    x = self.embedding(x, training=training)\n",
    "    if states is None:\n",
    "      states = self.gru.get_initial_state(x)\n",
    "    x, states = self.gru(x, initial_state=states, training=training)\n",
    "    x = self.dense(x, training=training)\n",
    "\n",
    "    if return_state:\n",
    "      return x, states\n",
    "    else: \n",
    "      return x"
   ]
  },
  {
   "cell_type": "code",
   "execution_count": 27,
   "metadata": {
    "execution": {
     "iopub.execute_input": "2021-01-08T06:02:41.354652Z",
     "iopub.status.busy": "2021-01-08T06:02:41.354041Z",
     "iopub.status.idle": "2021-01-08T06:02:41.380046Z",
     "shell.execute_reply": "2021-01-08T06:02:41.379513Z"
    },
    "id": "IX58Xj9z47Aw"
   },
   "outputs": [],
   "source": [
    "model = MyModel(\n",
    "    # Be sure the vocabulary size matches the `StringLookup` layers.\n",
    "    vocab_size=len(ids_from_chars.get_vocabulary()),\n",
    "    embedding_dim=embedding_dim,\n",
    "    rnn_units=rnn_units)"
   ]
  },
  {
   "cell_type": "markdown",
   "metadata": {
    "id": "RkA5upJIJ7W7"
   },
   "source": [
    "For each character the model looks up the embedding, runs the GRU one timestep with the embedding as input, and applies the dense layer to generate logits predicting the log-likelihood of the next character:\n",
    "\n",
    "![A drawing of the data passing through the model](images/text_generation_training.png)"
   ]
  },
  {
   "cell_type": "markdown",
   "metadata": {
    "id": "gKbfm04amhXk"
   },
   "source": [
    "Note: For training you could use a `keras.Sequential` model here. To  generate text later you'll need to manage the RNN's internal state. It's simpler to include the state input and output options upfront, than it is to rearrange the model architecture later. For more details asee the [Keras RNN guide](https://www.tensorflow.org/guide/keras/rnn#rnn_state_reuse)."
   ]
  },
  {
   "cell_type": "markdown",
   "metadata": {
    "id": "-ubPo0_9Prjb"
   },
   "source": [
    "## Try the model\n",
    "\n",
    "Now run the model to see that it behaves as expected.\n",
    "\n",
    "First check the shape of the output:"
   ]
  },
  {
   "cell_type": "code",
   "execution_count": 28,
   "metadata": {
    "execution": {
     "iopub.execute_input": "2021-01-08T06:02:41.384917Z",
     "iopub.status.busy": "2021-01-08T06:02:41.384245Z",
     "iopub.status.idle": "2021-01-08T06:02:44.787110Z",
     "shell.execute_reply": "2021-01-08T06:02:44.786507Z"
    },
    "id": "C-_70kKAPrPU"
   },
   "outputs": [
    {
     "output_type": "stream",
     "name": "stdout",
     "text": [
      "(64, 100, 67) # (batch_size, sequence_length, vocab_size)\n"
     ]
    }
   ],
   "source": [
    "for input_example_batch, target_example_batch in dataset.take(1):\n",
    "    example_batch_predictions = model(input_example_batch)\n",
    "    print(example_batch_predictions.shape, \"# (batch_size, sequence_length, vocab_size)\")"
   ]
  },
  {
   "cell_type": "markdown",
   "metadata": {
    "id": "Q6NzLBi4VM4o"
   },
   "source": [
    "In the above example the sequence length of the input is `100` but the model can be run on inputs of any length:"
   ]
  },
  {
   "cell_type": "code",
   "execution_count": 29,
   "metadata": {
    "execution": {
     "iopub.execute_input": "2021-01-08T06:02:44.792244Z",
     "iopub.status.busy": "2021-01-08T06:02:44.791592Z",
     "iopub.status.idle": "2021-01-08T06:02:44.795002Z",
     "shell.execute_reply": "2021-01-08T06:02:44.794521Z"
    },
    "id": "vPGmAAXmVLGC"
   },
   "outputs": [
    {
     "output_type": "stream",
     "name": "stdout",
     "text": [
      "Model: \"my_model\"\n_________________________________________________________________\nLayer (type)                 Output Shape              Param #   \n=================================================================\nembedding (Embedding)        multiple                  17152     \n_________________________________________________________________\ngru (GRU)                    multiple                  3938304   \n_________________________________________________________________\ndense (Dense)                multiple                  68675     \n=================================================================\nTotal params: 4,024,131\nTrainable params: 4,024,131\nNon-trainable params: 0\n_________________________________________________________________\n"
     ]
    }
   ],
   "source": [
    "model.summary()"
   ]
  },
  {
   "cell_type": "markdown",
   "metadata": {
    "id": "uwv0gEkURfx1"
   },
   "source": [
    "To get actual predictions from the model you need to sample from the output distribution, to get actual character indices. This distribution is defined by the logits over the character vocabulary.\n",
    "\n",
    "Note: It is important to _sample_ from this distribution as taking the _argmax_ of the distribution can easily get the model stuck in a loop.\n",
    "\n",
    "Try it for the first example in the batch:"
   ]
  },
  {
   "cell_type": "code",
   "execution_count": 30,
   "metadata": {
    "execution": {
     "iopub.execute_input": "2021-01-08T06:02:44.799364Z",
     "iopub.status.busy": "2021-01-08T06:02:44.798647Z",
     "iopub.status.idle": "2021-01-08T06:02:44.801354Z",
     "shell.execute_reply": "2021-01-08T06:02:44.801779Z"
    },
    "id": "4V4MfFg0RQJg"
   },
   "outputs": [],
   "source": [
    "sampled_indices = tf.random.categorical(example_batch_predictions[0], num_samples=1)\n",
    "sampled_indices = tf.squeeze(sampled_indices,axis=-1).numpy()"
   ]
  },
  {
   "cell_type": "markdown",
   "metadata": {
    "id": "QM1Vbxs_URw5"
   },
   "source": [
    "This gives us, at each timestep, a prediction of the next character index:"
   ]
  },
  {
   "cell_type": "code",
   "execution_count": 31,
   "metadata": {
    "execution": {
     "iopub.execute_input": "2021-01-08T06:02:44.806377Z",
     "iopub.status.busy": "2021-01-08T06:02:44.805403Z",
     "iopub.status.idle": "2021-01-08T06:02:44.808002Z",
     "shell.execute_reply": "2021-01-08T06:02:44.808421Z"
    },
    "id": "YqFMUQc_UFgM"
   },
   "outputs": [
    {
     "output_type": "execute_result",
     "data": {
      "text/plain": [
       "array([ 5,  7, 38, 35, 55, 44, 58, 62, 14, 21, 21,  5, 55,  0,  2,  5,  0,\n",
       "       11, 32, 65, 59, 54, 25, 53, 12,  0, 64, 66, 23,  5, 32, 57,  0, 28,\n",
       "       25, 32, 36,  9, 49, 48, 63,  3, 26, 36, 66, 19, 43,  2, 24, 66, 42,\n",
       "       38, 40, 26, 11, 43, 29,  7, 53,  3, 14,  0, 44, 64, 45, 63, 53, 13,\n",
       "        1, 14, 48, 11, 48, 14,  9, 26, 49, 13, 29, 54, 62, 24, 10,  9, 26,\n",
       "       43, 14, 12, 53, 63, 61, 11, 25, 43, 54, 42,  9, 38, 12, 20],\n",
       "      dtype=int64)"
      ]
     },
     "metadata": {},
     "execution_count": 31
    }
   ],
   "source": [
    "sampled_indices"
   ]
  },
  {
   "cell_type": "markdown",
   "metadata": {
    "id": "LfLtsP3mUhCG"
   },
   "source": [
    "Decode these to see the text predicted by this untrained model:"
   ]
  },
  {
   "cell_type": "code",
   "execution_count": 32,
   "metadata": {
    "execution": {
     "iopub.execute_input": "2021-01-08T06:02:44.812966Z",
     "iopub.status.busy": "2021-01-08T06:02:44.812320Z",
     "iopub.status.idle": "2021-01-08T06:02:44.817515Z",
     "shell.execute_reply": "2021-01-08T06:02:44.817959Z"
    },
    "id": "xWcFwPwLSo05"
   },
   "outputs": [
    {
     "output_type": "stream",
     "name": "stdout",
     "text": [
      "Input:\n b'pray thee take this mercy to provide\\nFor better times to come. Friar, advise him;\\nI leave him to you'\n\nNext Char Predictions:\n b\"$'XUodrv?GG$o\\n$3RysnKm:xzI$RqNKRV-ihw LVzEc\\nJzbXZL3cO'm ?dxewm;[UNK]?h3h?-Li;OnvJ.-Lc?:mwu3Kcnb-X:F\"\n"
     ]
    }
   ],
   "source": [
    "print(\"Input:\\n\", text_from_ids(input_example_batch[0]).numpy())\n",
    "print()\n",
    "print(\"Next Char Predictions:\\n\", text_from_ids(sampled_indices).numpy())"
   ]
  },
  {
   "cell_type": "markdown",
   "metadata": {
    "id": "LJL0Q0YPY6Ee"
   },
   "source": [
    "## Train the model"
   ]
  },
  {
   "cell_type": "markdown",
   "metadata": {
    "id": "YCbHQHiaa4Ic"
   },
   "source": [
    "At this point the problem can be treated as a standard classification problem. Given the previous RNN state, and the input this time step, predict the class of the next character."
   ]
  },
  {
   "cell_type": "markdown",
   "metadata": {
    "id": "trpqTWyvk0nr"
   },
   "source": [
    "### Attach an optimizer, and a loss function"
   ]
  },
  {
   "cell_type": "markdown",
   "metadata": {
    "id": "UAjbjY03eiQ4"
   },
   "source": [
    "The standard `tf.keras.losses.sparse_categorical_crossentropy` loss function works in this case because it is applied across the last dimension of the predictions.\n",
    "\n",
    "Because your model returns logits, you need to set the `from_logits` flag.\n"
   ]
  },
  {
   "cell_type": "code",
   "execution_count": 33,
   "metadata": {
    "execution": {
     "iopub.execute_input": "2021-01-08T06:02:44.822350Z",
     "iopub.status.busy": "2021-01-08T06:02:44.821703Z",
     "iopub.status.idle": "2021-01-08T06:02:44.823538Z",
     "shell.execute_reply": "2021-01-08T06:02:44.823956Z"
    },
    "id": "ZOeWdgxNFDXq"
   },
   "outputs": [],
   "source": [
    "loss = tf.losses.SparseCategoricalCrossentropy(from_logits=True)"
   ]
  },
  {
   "cell_type": "code",
   "execution_count": 34,
   "metadata": {
    "execution": {
     "iopub.execute_input": "2021-01-08T06:02:44.828874Z",
     "iopub.status.busy": "2021-01-08T06:02:44.828229Z",
     "iopub.status.idle": "2021-01-08T06:02:44.834573Z",
     "shell.execute_reply": "2021-01-08T06:02:44.834046Z"
    },
    "id": "4HrXTACTdzY-"
   },
   "outputs": [
    {
     "output_type": "stream",
     "name": "stdout",
     "text": [
      "Prediction shape:  (64, 100, 67)  # (batch_size, sequence_length, vocab_size)\nMean loss:         4.2052107\n"
     ]
    }
   ],
   "source": [
    "example_batch_loss = loss(target_example_batch, example_batch_predictions)\n",
    "mean_loss = example_batch_loss.numpy().mean()\n",
    "print(\"Prediction shape: \", example_batch_predictions.shape, \" # (batch_size, sequence_length, vocab_size)\")\n",
    "print(\"Mean loss:        \", mean_loss)"
   ]
  },
  {
   "cell_type": "markdown",
   "metadata": {
    "id": "vkvUIneTFiow"
   },
   "source": [
    "A newly initialized model shouldn't be too sure of itself, the output logits should all have similar magnitudes. To confirm this you can check that the exponential of the mean loss is approximately equal to the vocabulary size. A much higher loss means the model is sure of its wrong answers, and is badly initialized:"
   ]
  },
  {
   "cell_type": "code",
   "execution_count": 35,
   "metadata": {
    "execution": {
     "iopub.execute_input": "2021-01-08T06:02:44.838230Z",
     "iopub.status.busy": "2021-01-08T06:02:44.837607Z",
     "iopub.status.idle": "2021-01-08T06:02:44.841290Z",
     "shell.execute_reply": "2021-01-08T06:02:44.840770Z"
    },
    "id": "MAJfS5YoFiHf"
   },
   "outputs": [
    {
     "output_type": "execute_result",
     "data": {
      "text/plain": [
       "67.03472"
      ]
     },
     "metadata": {},
     "execution_count": 35
    }
   ],
   "source": [
    "tf.exp(mean_loss).numpy()"
   ]
  },
  {
   "cell_type": "markdown",
   "metadata": {
    "id": "jeOXriLcymww"
   },
   "source": [
    "Configure the training procedure using the `tf.keras.Model.compile` method. Use `tf.keras.optimizers.Adam` with default arguments and the loss function."
   ]
  },
  {
   "cell_type": "code",
   "execution_count": 36,
   "metadata": {
    "execution": {
     "iopub.execute_input": "2021-01-08T06:02:44.854759Z",
     "iopub.status.busy": "2021-01-08T06:02:44.854087Z",
     "iopub.status.idle": "2021-01-08T06:02:44.863357Z",
     "shell.execute_reply": "2021-01-08T06:02:44.862803Z"
    },
    "id": "DDl1_Een6rL0"
   },
   "outputs": [],
   "source": [
    "model.compile(optimizer='adam', loss=loss)"
   ]
  },
  {
   "cell_type": "markdown",
   "metadata": {
    "id": "ieSJdchZggUj"
   },
   "source": [
    "### Configure checkpoints"
   ]
  },
  {
   "cell_type": "markdown",
   "metadata": {
    "id": "C6XBUUavgF56"
   },
   "source": [
    "Use a `tf.keras.callbacks.ModelCheckpoint` to ensure that checkpoints are saved during training:"
   ]
  },
  {
   "cell_type": "code",
   "execution_count": 37,
   "metadata": {
    "execution": {
     "iopub.execute_input": "2021-01-08T06:02:44.868033Z",
     "iopub.status.busy": "2021-01-08T06:02:44.867418Z",
     "iopub.status.idle": "2021-01-08T06:02:44.869365Z",
     "shell.execute_reply": "2021-01-08T06:02:44.868884Z"
    },
    "id": "W6fWTriUZP-n"
   },
   "outputs": [],
   "source": [
    "# Directory where the checkpoints will be saved\n",
    "checkpoint_dir = './training_checkpoints'\n",
    "# Name of the checkpoint files\n",
    "checkpoint_prefix = os.path.join(checkpoint_dir, \"ckpt_{epoch}\")\n",
    "\n",
    "checkpoint_callback = tf.keras.callbacks.ModelCheckpoint(\n",
    "    filepath=checkpoint_prefix,\n",
    "    save_weights_only=True)"
   ]
  },
  {
   "cell_type": "markdown",
   "metadata": {
    "id": "3Ky3F_BhgkTW"
   },
   "source": [
    "### Execute the training"
   ]
  },
  {
   "cell_type": "markdown",
   "metadata": {
    "id": "IxdOA-rgyGvs"
   },
   "source": [
    "To keep training time reasonable, use 10 epochs to train the model. In Colab, set the runtime to GPU for faster training."
   ]
  },
  {
   "cell_type": "code",
   "execution_count": 38,
   "metadata": {
    "execution": {
     "iopub.execute_input": "2021-01-08T06:02:44.873221Z",
     "iopub.status.busy": "2021-01-08T06:02:44.872548Z",
     "iopub.status.idle": "2021-01-08T06:02:44.874741Z",
     "shell.execute_reply": "2021-01-08T06:02:44.874253Z"
    },
    "id": "7yGBE2zxMMHs"
   },
   "outputs": [],
   "source": [
    "EPOCHS = 20"
   ]
  },
  {
   "cell_type": "code",
   "execution_count": 39,
   "metadata": {
    "execution": {
     "iopub.execute_input": "2021-01-08T06:02:44.878504Z",
     "iopub.status.busy": "2021-01-08T06:02:44.877932Z",
     "iopub.status.idle": "2021-01-08T06:04:36.608584Z",
     "shell.execute_reply": "2021-01-08T06:04:36.609030Z"
    },
    "id": "UK-hmKjYVoll"
   },
   "outputs": [
    {
     "output_type": "stream",
     "name": "stdout",
     "text": [
      "Epoch 1/20\n",
      "172/172 [==============================] - 10s 58ms/step - loss: 2.7012\n",
      "Epoch 2/20\n",
      "172/172 [==============================] - 10s 58ms/step - loss: 1.9742\n",
      "Epoch 3/20\n",
      "172/172 [==============================] - 10s 58ms/step - loss: 1.6988\n",
      "Epoch 4/20\n",
      "172/172 [==============================] - 10s 59ms/step - loss: 1.5422\n",
      "Epoch 5/20\n",
      "172/172 [==============================] - 10s 60ms/step - loss: 1.4446\n",
      "Epoch 6/20\n",
      "172/172 [==============================] - 10s 60ms/step - loss: 1.3776\n",
      "Epoch 7/20\n",
      "172/172 [==============================] - 10s 61ms/step - loss: 1.3268\n",
      "Epoch 8/20\n",
      "172/172 [==============================] - 10s 60ms/step - loss: 1.2810\n",
      "Epoch 9/20\n",
      "172/172 [==============================] - 10s 61ms/step - loss: 1.2396\n",
      "Epoch 10/20\n",
      "172/172 [==============================] - 11s 61ms/step - loss: 1.2006\n",
      "Epoch 11/20\n",
      "172/172 [==============================] - 10s 61ms/step - loss: 1.1596\n",
      "Epoch 12/20\n",
      "172/172 [==============================] - 10s 60ms/step - loss: 1.1174\n",
      "Epoch 13/20\n",
      "172/172 [==============================] - 10s 61ms/step - loss: 1.0739\n",
      "Epoch 14/20\n",
      "172/172 [==============================] - 10s 61ms/step - loss: 1.0270\n",
      "Epoch 15/20\n",
      "172/172 [==============================] - 10s 60ms/step - loss: 0.9777\n",
      "Epoch 16/20\n",
      "172/172 [==============================] - 11s 61ms/step - loss: 0.9261\n",
      "Epoch 17/20\n",
      "172/172 [==============================] - 11s 63ms/step - loss: 0.8744\n",
      "Epoch 18/20\n",
      "172/172 [==============================] - 11s 62ms/step - loss: 0.8218\n",
      "Epoch 19/20\n",
      "172/172 [==============================] - 11s 62ms/step - loss: 0.7711\n",
      "Epoch 20/20\n",
      "172/172 [==============================] - 11s 62ms/step - loss: 0.7233\n"
     ]
    }
   ],
   "source": [
    "history = model.fit(dataset, epochs=EPOCHS, callbacks=[checkpoint_callback])"
   ]
  },
  {
   "cell_type": "markdown",
   "metadata": {
    "id": "kKkD5M6eoSiN"
   },
   "source": [
    "## Generate text"
   ]
  },
  {
   "cell_type": "markdown",
   "metadata": {
    "id": "oIdQ8c8NvMzV"
   },
   "source": [
    "The simplest way to generate text with this model is to run it in a loop, and keep track of the model's internal state as you execute it.\n",
    "\n",
    "![To generate text the model's output is fed back to the input](images/text_generation_sampling.png)\n",
    "\n",
    "Each time you call the model you pass in some text and an internal state. The model returns a prediction for the next character and its new state. Pass the prediction and state back in to continue generating text.\n"
   ]
  },
  {
   "cell_type": "markdown",
   "metadata": {
    "id": "DjGz1tDkzf-u"
   },
   "source": [
    "The following makes a single step prediction:"
   ]
  },
  {
   "cell_type": "code",
   "execution_count": 40,
   "metadata": {
    "execution": {
     "iopub.execute_input": "2021-01-08T06:04:36.618259Z",
     "iopub.status.busy": "2021-01-08T06:04:36.617622Z",
     "iopub.status.idle": "2021-01-08T06:04:36.619398Z",
     "shell.execute_reply": "2021-01-08T06:04:36.619754Z"
    },
    "id": "iSBU1tHmlUSs"
   },
   "outputs": [],
   "source": [
    "class OneStep(tf.keras.Model):\n",
    "  def __init__(self, model, chars_from_ids, ids_from_chars, temperature=1.0):\n",
    "    super().__init__()\n",
    "    self.temperature=temperature\n",
    "    self.model = model\n",
    "    self.chars_from_ids = chars_from_ids\n",
    "    self.ids_from_chars = ids_from_chars\n",
    "\n",
    "    # Create a mask to prevent \"\" or \"[UNK]\" from being generated.\n",
    "    skip_ids = self.ids_from_chars(['','[UNK]'])[:, None]\n",
    "    sparse_mask = tf.SparseTensor(\n",
    "        # Put a -inf at each bad index.\n",
    "        values=[-float('inf')]*len(skip_ids),\n",
    "        indices = skip_ids,\n",
    "        # Match the shape to the vocabulary\n",
    "        dense_shape=[len(ids_from_chars.get_vocabulary())]) \n",
    "    self.prediction_mask = tf.sparse.to_dense(sparse_mask)\n",
    "\n",
    "  @tf.function\n",
    "  def generate_one_step(self, inputs, states=None):\n",
    "    # Convert strings to token IDs.\n",
    "    input_chars = tf.strings.unicode_split(inputs, 'UTF-8')\n",
    "    input_ids = self.ids_from_chars(input_chars).to_tensor()\n",
    "\n",
    "    # Run the model.\n",
    "    # predicted_logits.shape is [batch, char, next_char_logits] \n",
    "    predicted_logits, states =  self.model(inputs=input_ids, states=states, \n",
    "                                          return_state=True)\n",
    "    # Only use the last prediction.\n",
    "    predicted_logits = predicted_logits[:, -1, :]\n",
    "    predicted_logits = predicted_logits/self.temperature\n",
    "    # Apply the prediction mask: prevent \"\" or \"[UNK]\" from being generated.\n",
    "    predicted_logits = predicted_logits + self.prediction_mask\n",
    "\n",
    "    # Sample the output logits to generate token IDs.\n",
    "    predicted_ids = tf.random.categorical(predicted_logits, num_samples=1)\n",
    "    predicted_ids = tf.squeeze(predicted_ids, axis=-1)\n",
    "    \n",
    "    # Convert from token ids to characters\n",
    "    predicted_chars = self.chars_from_ids(predicted_ids)\n",
    "\n",
    "    # Return the characters and model state.\n",
    "    return predicted_chars, states"
   ]
  },
  {
   "cell_type": "code",
   "execution_count": 41,
   "metadata": {
    "execution": {
     "iopub.execute_input": "2021-01-08T06:04:36.625357Z",
     "iopub.status.busy": "2021-01-08T06:04:36.624759Z",
     "iopub.status.idle": "2021-01-08T06:04:36.633922Z",
     "shell.execute_reply": "2021-01-08T06:04:36.634289Z"
    },
    "id": "fqMOuDutnOxK"
   },
   "outputs": [],
   "source": [
    "one_step_model = OneStep(model, chars_from_ids, ids_from_chars)"
   ]
  },
  {
   "cell_type": "markdown",
   "metadata": {
    "id": "p9yDoa0G3IgQ"
   },
   "source": [
    "Run it in a loop to generate some text. Looking at the generated text, you'll see the model knows when to capitalize, make paragraphs and imitates a Shakespeare-like writing vocabulary. With the small number of training epochs, it has not yet learned to form coherent sentences."
   ]
  },
  {
   "cell_type": "code",
   "execution_count": 42,
   "metadata": {
    "execution": {
     "iopub.execute_input": "2021-01-08T06:04:36.678580Z",
     "iopub.status.busy": "2021-01-08T06:04:36.640134Z",
     "iopub.status.idle": "2021-01-08T06:04:39.108712Z",
     "shell.execute_reply": "2021-01-08T06:04:39.109121Z"
    },
    "id": "ST7PSyk9t1mT"
   },
   "outputs": [
    {
     "output_type": "stream",
     "name": "stdout",
     "text": [
      "ROMEO:\nA beggar, beg prosperous;\nTo meet him my inon, but shipp'd absolved With\nresolved abused, each not taken in old-rat's doom,\nWho art thy tornor deserved the merriment\nDoth my the inclune about her every's thrance.\n\nPRINCE:\nGo, here Plendeen.\n\nARCHIDAMUS:\nSo please your lips: it is my royal self,\nAn 'Shapel to myself incensed\nThe drops by Turphts and there\nBy histing their lambs that we may him at home,\nAnd Warwick is the corn peased of my company.\n\nPRINCE:\nThat barbed when you can giddy for Lancaster.\n\nHENRY BOLINGBROKE:\nWhy, then he wakes, all indeed! Camillo with me the curtainm,\nYour remembrance of her tears to drink a play.\n\nDYRCET:\nTell me of those wenches, I think 'twixt less?\n\nDUKE VINCENTIO:\nIs't possible that I would attend me to myself:\nIf she an importune as a little course\nYou have by him doth rid you hence it. O hate!\nAnd so in a lengent dry,\nAnd she between his watch and with a slave,\nOr by the honour'd noble consul\nWhich partice will I just excellent.\n\nHENRY BOLINGBROKE: \n\n________________________________________________________________________________\n\nRun time: 4.651092290878296\n"
     ]
    }
   ],
   "source": [
    "start = time.time()\n",
    "states = None\n",
    "next_char = tf.constant(['ROMEO:'])\n",
    "result = [next_char]\n",
    "\n",
    "for n in range(1000):\n",
    "  next_char, states = one_step_model.generate_one_step(next_char, states=states)\n",
    "  result.append(next_char)\n",
    "\n",
    "result = tf.strings.join(result)\n",
    "end = time.time()\n",
    "\n",
    "print(result[0].numpy().decode('utf-8'), '\\n\\n' + '_'*80)\n",
    "\n",
    "print(f\"\\nRun time: {end - start}\")"
   ]
  },
  {
   "cell_type": "markdown",
   "metadata": {
    "id": "_bGsCP9DZFQ5"
   },
   "source": [
    "While some of the sentences are grammatical, most do not make sense. The model has not learned the meaning of words, but consider:\n",
    "\n",
    "* The model is character-based. When training started, the model did not know how to spell an English word, or that words were even a unit of text.\n",
    "\n",
    "* The structure of the output resembles a play—blocks of text generally begin with a speaker name, in all capital letters similar to the dataset.\n",
    "\n",
    "* As demonstrated below, the model is trained on small batches of text (100 characters each), and is still able to generate a longer sequence of text with coherent structure."
   ]
  },
  {
   "cell_type": "markdown",
   "metadata": {
    "id": "AM2Uma_-yVIq"
   },
   "source": [
    "The easiest thing you can do to improve the results is to train it for longer (try `EPOCHS = 30`).\n",
    "\n",
    "You can also experiment with a different start string, try adding another RNN layer to improve the model's accuracy, or adjust the temperature parameter to generate more or less random predictions."
   ]
  },
  {
   "cell_type": "markdown",
   "metadata": {
    "id": "_OfbI4aULmuj"
   },
   "source": [
    "If you want the model to generate text *faster* the easiest thing you can do is batch the text generation. In the example below the model generates 5 outputs in about the same time it took to generate 1 above. "
   ]
  },
  {
   "cell_type": "code",
   "execution_count": 43,
   "metadata": {
    "execution": {
     "iopub.execute_input": "2021-01-08T06:04:39.116678Z",
     "iopub.status.busy": "2021-01-08T06:04:39.115095Z",
     "iopub.status.idle": "2021-01-08T06:04:41.354155Z",
     "shell.execute_reply": "2021-01-08T06:04:41.354594Z"
    },
    "id": "ZkLu7Y8UCMT7"
   },
   "outputs": [
    {
     "output_type": "stream",
     "name": "stdout",
     "text": [
      "tf.Tensor(\n[b\"ROMEO:\\n\\nJULIET:\\nWell, I will wish Great Lord of Berkeley, as the heart\\nShall fame a thorny. There be the way it should\\nMarch sale a dearer heart; and here hath know\\nThe county servants dray perseace of mine tongue\\nFell below his face.\\n\\nESCALUS:\\nYour professess I will appear to you.\\n\\nBRUTUS:\\nWhat then no presence?\\n\\nISABELLA:\\nNay, then 'tis citizen:\\nHe which the air breathe out slain,\\nAbove my England's royal king! a pair, money, obey.\\n\\nPOLIXENES:\\nDispatch!\\n\\nFirst Senator:\\nYou'll think is mere thus: for I would fain have a rited at\\nOut a dream of converts: they lord\\nThe father use my gloriest senators\\nWhose son's subjects stand on storms.\\n\\nKATHARINA:\\nWhat is he?\\n\\nCATESBY:\\nI do breed; and so it could breathe;\\nShe hath possible they are right, 'Meaketh recench,\\nOr I will love thee more:\\nBeing heaven, the heavens to thee arrow.\\n\\nVOLUMNIA:\\nAny while thy friends.\\n\\nAUTOLYCUS:\\nHere's sooth, blow thy heaviness.\\n\\nSecond Leave Veepanian hide you age.\\n\\nGONZALO:\\nHere's own sooth o' your father, liph, of a\"\n b\"ROMEO:\\nThat she is no lut I, and Turk' to me:\\n'Tis not the lamentation of fultly should be!\\nWhy do, I love done care; but, it 'For how thee comestly\\nSon God of gold, good friar with all deepers.\\n\\nPETRUCHIO:\\nBut I say it is two sleeves; but were no early be absolved\\nThat come the world encounter imstancieate\\nAnd in the entreaty to a hearten person.\\nThat thou, will make with flesh with estimation;\\nQuick is my father, Duke of York, to have least with\\nhis oar.\\nI will be deafes, I have done.\\nFind him, when the willow grace hath had ploguned\\nwoundest loy, the tyrant's vaul blame,--\\nIf a factior place will best all the ene\\nis, here along, and some other cry: Let him give with you.\\n\\nBISARD SICINIUS:\\nOur wife,\\nDays it shall toucheth rich mistress' down and\\nalmost as mother and his weary brother's son:\\nIt shall do well the wounds of Calais.\\n\\nFLORIZEL:\\nI did s, any thing you woo'd\\nWith height on't.\\n\\nPERDITA:\\nIf you were possible into their child.\\nOr shup your breasts, is true, 'Strum is I\\nhave provoked\"\n b\"ROMEO:\\nTowards Lancaster and by lanies son!\\n\\nARIEL:\\nTo whom I wash, and is touch'd the first\\nJesule the king's, suncentitable counsel\\nrough, whither\\n'Whou, my daughter here thou didst burst;\\nAnd, let me see them both.\\n\\nPROSPERO:\\nHow well have lived\\nTo meet and harm by the jeasons of my sheep,\\nBut mietting in the stroke and long free before it,\\nOr so many slave,--vour, with words:\\nThe rage be plainers, that he hath control'd\\nThese and the part and womb of sceptre of the king.\\n\\nELBOW:\\nAy, sir, is gone;\\nThe ordering on't, that once deny, the\\ntribunes;--\\nOur Edvion me about so reclaim'd.\\n\\nWARWICK:\\nThey last a shrew or a maid\\nAt what he three savul wither by the queen'd with grief;\\nYet ere I glud!\\n\\nFRANTION:\\nAy, a mar; a scratch: yet for a beat may move,\\nHer mile-bearing some harm shown than hanged,\\nas fair appoining with the neare-meethey deliaber;\\nIf he be great, and get about death being king,\\nAnd know I have: if all have made thy judge\\nIn excell'd lord, that love me lay, and will not say.\\n\\nSe\"\n b\"ROMEO:\\nThere was a virgin, forbid!\\n\\nSecond Messenger:\\nSweet, insuquence, disting Franch comes.\\n\\nBIONDELLO:\\nSir Walter Herbert, a rather tabe, Or my cate is.\\n\\nHERMIONE:\\nSweet son, as there may be said to my demand.\\n\\nPOLIXENES:\\nHow! I trust, so I detled;\\nO, fie, fie! Thou stept'st!\\n\\nDUKE OF AUMERLE:\\nI grant it friend, knowing her, therefore\\nHave I doubted hence and thine, and thereby find\\nRience an emptier me and my partner in my\\nspugnarions: 'tis a ghat office.\\n\\nLURENCMASEL:\\nMy gracious God, Still world goes here.\\n\\nSAMPON:\\nNay, do not say 'I't on my finger leaped\\nI with examile twelve from greater\\ndisting it that I under a husband.\\n\\nAUTOLYCUS:\\nAnt thou do so, since where he have of, sweet brawling person,\\nOn die past domb'st, death, and a sweet again.\\n\\nROMEO:\\nGood event with this,--\\nI'll tell him die to my bed: the city be\\nwatchfore of face.\\n\\nSecond Gentleman:\\nNo, speak likely.\\n\\nFRIAR LAURENCE:\\nSoath his party-winged means his lady mother,\\nIsainst my equal fiend Gremio's wax,\\nAnd stone water-\"\n b\"ROMEO:\\nThis torture, like a creature, where is thy contracime\\nIn them above me. Hadst thou been seen there,\\nIn brother, sir, and downright lay to my degree\\nAs Lewisors, death makes them our lance.\\nYou have a torment musician charge,\\nLight waken sound his princely nurse, I warrant you:\\nThe which your lordship may you fancy married Willwaste:\\nThy son is loss. Aumerlips! hadst thou must to Johe\\nThe king's silver is obblaid myself and would\\nbe able to pardon with joy,\\nAnd then I did seem lived. Wo lie with leg in trumpet,\\nAnd bear him almost, and made all pain'd Edward's son:\\nThis fam I throw down the house of Lancaster.\\n\\nRICHMOND:\\nThe other true men hear me: brave Merdur! where lies\\nI'll go along with usury, but thy noble\\nWeigh it flatter Lewis down, and there they rage.\\n\\nCORIOLANUS:\\nWhose son is take, sit upon.\\n\\nLUCENTIO:\\nWhat then?\\n\\nMENENIUS:\\nReturn, courage me, that you did lament the openation\\nOf name steal'd maid, he flowest his death bad back like\\nHad I march and less handy beats dead;\\nAn\"], shape=(5,), dtype=string) \n\n________________________________________________________________________________\n\nRun time: 4.179025888442993\n"
     ]
    }
   ],
   "source": [
    "start = time.time()\n",
    "states = None\n",
    "next_char = tf.constant(['ROMEO:', 'ROMEO:', 'ROMEO:', 'ROMEO:', 'ROMEO:'])\n",
    "result = [next_char]\n",
    "\n",
    "for n in range(1000):\n",
    "  next_char, states = one_step_model.generate_one_step(next_char, states=states)\n",
    "  result.append(next_char)\n",
    "\n",
    "result = tf.strings.join(result)\n",
    "end = time.time()\n",
    "\n",
    "print(result, '\\n\\n' + '_'*80)\n",
    "\n",
    "\n",
    "print(f\"\\nRun time: {end - start}\")"
   ]
  },
  {
   "cell_type": "markdown",
   "metadata": {
    "id": "UlUQzwu6EXam"
   },
   "source": [
    "## Export the generator\n",
    "\n",
    "This single-step model can easily be [saved and restored](https://www.tensorflow.org/guide/saved_model), allowing you to use it anywhere a `tf.saved_model` is accepted."
   ]
  },
  {
   "cell_type": "code",
   "execution_count": 44,
   "metadata": {
    "execution": {
     "iopub.execute_input": "2021-01-08T06:04:41.359040Z",
     "iopub.status.busy": "2021-01-08T06:04:41.358496Z",
     "iopub.status.idle": "2021-01-08T06:04:47.734039Z",
     "shell.execute_reply": "2021-01-08T06:04:47.734426Z"
    },
    "id": "3Grk32H_CzsC"
   },
   "outputs": [
    {
     "output_type": "stream",
     "name": "stdout",
     "text": [
      "WARNING:tensorflow:Skipping full serialization of Keras layer <__main__.OneStep object at 0x000002A17BBA65B0>, because it is not built.\n",
      "WARNING:tensorflow:From d:\\duter\\Documents\\JHU MSIS\\Spring 2021\\Deep Learning with Unstructured Data\\TensorFlow-NLG\\venv\\lib\\site-packages\\tensorflow\\python\\training\\tracking\\tracking.py:111: Model.state_updates (from tensorflow.python.keras.engine.training) is deprecated and will be removed in a future version.\n",
      "Instructions for updating:\n",
      "This property should not be used in TensorFlow 2.0, as updates are applied automatically.\n",
      "WARNING:tensorflow:From d:\\duter\\Documents\\JHU MSIS\\Spring 2021\\Deep Learning with Unstructured Data\\TensorFlow-NLG\\venv\\lib\\site-packages\\tensorflow\\python\\training\\tracking\\tracking.py:111: Layer.updates (from tensorflow.python.keras.engine.base_layer) is deprecated and will be removed in a future version.\n",
      "Instructions for updating:\n",
      "This property should not be used in TensorFlow 2.0, as updates are applied automatically.\n",
      "INFO:tensorflow:Assets written to: one_step\\assets\n"
     ]
    },
    {
     "output_type": "error",
     "ename": "ValueError",
     "evalue": "The same saveable will be restored with two names: ids_from_chars/_table/.ATTRIBUTES/table",
     "traceback": [
      "\u001b[1;31m---------------------------------------------------------------------------\u001b[0m",
      "\u001b[1;31mValueError\u001b[0m                                Traceback (most recent call last)",
      "\u001b[1;32m<ipython-input-44-5089d08e324f>\u001b[0m in \u001b[0;36m<module>\u001b[1;34m\u001b[0m\n\u001b[0;32m      1\u001b[0m \u001b[0mtf\u001b[0m\u001b[1;33m.\u001b[0m\u001b[0msaved_model\u001b[0m\u001b[1;33m.\u001b[0m\u001b[0msave\u001b[0m\u001b[1;33m(\u001b[0m\u001b[0mone_step_model\u001b[0m\u001b[1;33m,\u001b[0m \u001b[1;34m'one_step'\u001b[0m\u001b[1;33m)\u001b[0m\u001b[1;33m\u001b[0m\u001b[1;33m\u001b[0m\u001b[0m\n\u001b[1;32m----> 2\u001b[1;33m \u001b[0mone_step_reloaded\u001b[0m \u001b[1;33m=\u001b[0m \u001b[0mtf\u001b[0m\u001b[1;33m.\u001b[0m\u001b[0msaved_model\u001b[0m\u001b[1;33m.\u001b[0m\u001b[0mload\u001b[0m\u001b[1;33m(\u001b[0m\u001b[1;34m'one_step'\u001b[0m\u001b[1;33m)\u001b[0m\u001b[1;33m\u001b[0m\u001b[1;33m\u001b[0m\u001b[0m\n\u001b[0m",
      "\u001b[1;32md:\\duter\\Documents\\JHU MSIS\\Spring 2021\\Deep Learning with Unstructured Data\\TensorFlow-NLG\\venv\\lib\\site-packages\\tensorflow\\python\\saved_model\\load.py\u001b[0m in \u001b[0;36mload\u001b[1;34m(export_dir, tags, options)\u001b[0m\n\u001b[0;32m    601\u001b[0m     \u001b[0mValueError\u001b[0m\u001b[1;33m:\u001b[0m \u001b[0mIf\u001b[0m\u001b[0;31m \u001b[0m\u001b[0;31m`\u001b[0m\u001b[0mtags\u001b[0m\u001b[0;31m`\u001b[0m \u001b[0mdon\u001b[0m\u001b[0;31m'\u001b[0m\u001b[0mt\u001b[0m \u001b[0mmatch\u001b[0m \u001b[0ma\u001b[0m \u001b[0mMetaGraph\u001b[0m \u001b[1;32min\u001b[0m \u001b[0mthe\u001b[0m \u001b[0mSavedModel\u001b[0m\u001b[1;33m.\u001b[0m\u001b[1;33m\u001b[0m\u001b[1;33m\u001b[0m\u001b[0m\n\u001b[0;32m    602\u001b[0m   \"\"\"\n\u001b[1;32m--> 603\u001b[1;33m   \u001b[1;32mreturn\u001b[0m \u001b[0mload_internal\u001b[0m\u001b[1;33m(\u001b[0m\u001b[0mexport_dir\u001b[0m\u001b[1;33m,\u001b[0m \u001b[0mtags\u001b[0m\u001b[1;33m,\u001b[0m \u001b[0moptions\u001b[0m\u001b[1;33m)\u001b[0m\u001b[1;33m\u001b[0m\u001b[1;33m\u001b[0m\u001b[0m\n\u001b[0m\u001b[0;32m    604\u001b[0m \u001b[1;33m\u001b[0m\u001b[0m\n\u001b[0;32m    605\u001b[0m \u001b[1;33m\u001b[0m\u001b[0m\n",
      "\u001b[1;32md:\\duter\\Documents\\JHU MSIS\\Spring 2021\\Deep Learning with Unstructured Data\\TensorFlow-NLG\\venv\\lib\\site-packages\\tensorflow\\python\\saved_model\\load.py\u001b[0m in \u001b[0;36mload_internal\u001b[1;34m(export_dir, tags, options, loader_cls)\u001b[0m\n\u001b[0;32m    630\u001b[0m     \u001b[1;32mwith\u001b[0m \u001b[0mops\u001b[0m\u001b[1;33m.\u001b[0m\u001b[0minit_scope\u001b[0m\u001b[1;33m(\u001b[0m\u001b[1;33m)\u001b[0m\u001b[1;33m:\u001b[0m\u001b[1;33m\u001b[0m\u001b[1;33m\u001b[0m\u001b[0m\n\u001b[0;32m    631\u001b[0m       \u001b[1;32mtry\u001b[0m\u001b[1;33m:\u001b[0m\u001b[1;33m\u001b[0m\u001b[1;33m\u001b[0m\u001b[0m\n\u001b[1;32m--> 632\u001b[1;33m         loader = loader_cls(object_graph_proto, saved_model_proto, export_dir,\n\u001b[0m\u001b[0;32m    633\u001b[0m                             ckpt_options)\n\u001b[0;32m    634\u001b[0m       \u001b[1;32mexcept\u001b[0m \u001b[0merrors\u001b[0m\u001b[1;33m.\u001b[0m\u001b[0mNotFoundError\u001b[0m \u001b[1;32mas\u001b[0m \u001b[0merr\u001b[0m\u001b[1;33m:\u001b[0m\u001b[1;33m\u001b[0m\u001b[1;33m\u001b[0m\u001b[0m\n",
      "\u001b[1;32md:\\duter\\Documents\\JHU MSIS\\Spring 2021\\Deep Learning with Unstructured Data\\TensorFlow-NLG\\venv\\lib\\site-packages\\tensorflow\\python\\saved_model\\load.py\u001b[0m in \u001b[0;36m__init__\u001b[1;34m(self, object_graph_proto, saved_model_proto, export_dir, ckpt_options)\u001b[0m\n\u001b[0;32m    129\u001b[0m \u001b[1;33m\u001b[0m\u001b[0m\n\u001b[0;32m    130\u001b[0m     \u001b[0mself\u001b[0m\u001b[1;33m.\u001b[0m\u001b[0m_load_all\u001b[0m\u001b[1;33m(\u001b[0m\u001b[1;33m)\u001b[0m\u001b[1;33m\u001b[0m\u001b[1;33m\u001b[0m\u001b[0m\n\u001b[1;32m--> 131\u001b[1;33m     \u001b[0mself\u001b[0m\u001b[1;33m.\u001b[0m\u001b[0m_restore_checkpoint\u001b[0m\u001b[1;33m(\u001b[0m\u001b[1;33m)\u001b[0m\u001b[1;33m\u001b[0m\u001b[1;33m\u001b[0m\u001b[0m\n\u001b[0m\u001b[0;32m    132\u001b[0m \u001b[1;33m\u001b[0m\u001b[0m\n\u001b[0;32m    133\u001b[0m     \u001b[1;32mfor\u001b[0m \u001b[0mnode\u001b[0m \u001b[1;32min\u001b[0m \u001b[0mself\u001b[0m\u001b[1;33m.\u001b[0m\u001b[0m_nodes\u001b[0m\u001b[1;33m:\u001b[0m\u001b[1;33m\u001b[0m\u001b[1;33m\u001b[0m\u001b[0m\n",
      "\u001b[1;32md:\\duter\\Documents\\JHU MSIS\\Spring 2021\\Deep Learning with Unstructured Data\\TensorFlow-NLG\\venv\\lib\\site-packages\\tensorflow\\python\\saved_model\\load.py\u001b[0m in \u001b[0;36m_restore_checkpoint\u001b[1;34m(self)\u001b[0m\n\u001b[0;32m    328\u001b[0m                                   self._checkpoint_options).expect_partial()\n\u001b[0;32m    329\u001b[0m     \u001b[1;32melse\u001b[0m\u001b[1;33m:\u001b[0m\u001b[1;33m\u001b[0m\u001b[1;33m\u001b[0m\u001b[0m\n\u001b[1;32m--> 330\u001b[1;33m       \u001b[0mload_status\u001b[0m \u001b[1;33m=\u001b[0m \u001b[0msaver\u001b[0m\u001b[1;33m.\u001b[0m\u001b[0mrestore\u001b[0m\u001b[1;33m(\u001b[0m\u001b[0mvariables_path\u001b[0m\u001b[1;33m,\u001b[0m \u001b[0mself\u001b[0m\u001b[1;33m.\u001b[0m\u001b[0m_checkpoint_options\u001b[0m\u001b[1;33m)\u001b[0m\u001b[1;33m\u001b[0m\u001b[1;33m\u001b[0m\u001b[0m\n\u001b[0m\u001b[0;32m    331\u001b[0m     \u001b[0mload_status\u001b[0m\u001b[1;33m.\u001b[0m\u001b[0massert_existing_objects_matched\u001b[0m\u001b[1;33m(\u001b[0m\u001b[1;33m)\u001b[0m\u001b[1;33m\u001b[0m\u001b[1;33m\u001b[0m\u001b[0m\n\u001b[0;32m    332\u001b[0m     \u001b[0mcheckpoint\u001b[0m \u001b[1;33m=\u001b[0m \u001b[0mload_status\u001b[0m\u001b[1;33m.\u001b[0m\u001b[0m_checkpoint\u001b[0m\u001b[1;33m\u001b[0m\u001b[1;33m\u001b[0m\u001b[0m\n",
      "\u001b[1;32md:\\duter\\Documents\\JHU MSIS\\Spring 2021\\Deep Learning with Unstructured Data\\TensorFlow-NLG\\venv\\lib\\site-packages\\tensorflow\\python\\training\\tracking\\util.py\u001b[0m in \u001b[0;36mrestore\u001b[1;34m(self, save_path, options)\u001b[0m\n\u001b[0;32m   1317\u001b[0m         \u001b[0mgraph_view\u001b[0m\u001b[1;33m=\u001b[0m\u001b[0mself\u001b[0m\u001b[1;33m.\u001b[0m\u001b[0m_graph_view\u001b[0m\u001b[1;33m,\u001b[0m\u001b[1;33m\u001b[0m\u001b[1;33m\u001b[0m\u001b[0m\n\u001b[0;32m   1318\u001b[0m         options=options)\n\u001b[1;32m-> 1319\u001b[1;33m     base.CheckpointPosition(\n\u001b[0m\u001b[0;32m   1320\u001b[0m         checkpoint=checkpoint, proto_id=0).restore(self._graph_view.root)\n\u001b[0;32m   1321\u001b[0m     load_status = CheckpointLoadStatus(\n",
      "\u001b[1;32md:\\duter\\Documents\\JHU MSIS\\Spring 2021\\Deep Learning with Unstructured Data\\TensorFlow-NLG\\venv\\lib\\site-packages\\tensorflow\\python\\training\\tracking\\base.py\u001b[0m in \u001b[0;36mrestore\u001b[1;34m(self, trackable)\u001b[0m\n\u001b[0;32m    207\u001b[0m         \u001b[1;31m# This object's correspondence with a checkpointed object is new, so\u001b[0m\u001b[1;33m\u001b[0m\u001b[1;33m\u001b[0m\u001b[1;33m\u001b[0m\u001b[0m\n\u001b[0;32m    208\u001b[0m         \u001b[1;31m# process deferred restorations for it and its dependencies.\u001b[0m\u001b[1;33m\u001b[0m\u001b[1;33m\u001b[0m\u001b[1;33m\u001b[0m\u001b[0m\n\u001b[1;32m--> 209\u001b[1;33m         \u001b[0mrestore_ops\u001b[0m \u001b[1;33m=\u001b[0m \u001b[0mtrackable\u001b[0m\u001b[1;33m.\u001b[0m\u001b[0m_restore_from_checkpoint_position\u001b[0m\u001b[1;33m(\u001b[0m\u001b[0mself\u001b[0m\u001b[1;33m)\u001b[0m  \u001b[1;31m# pylint: disable=protected-access\u001b[0m\u001b[1;33m\u001b[0m\u001b[1;33m\u001b[0m\u001b[0m\n\u001b[0m\u001b[0;32m    210\u001b[0m         \u001b[1;32mif\u001b[0m \u001b[0mrestore_ops\u001b[0m\u001b[1;33m:\u001b[0m\u001b[1;33m\u001b[0m\u001b[1;33m\u001b[0m\u001b[0m\n\u001b[0;32m    211\u001b[0m           \u001b[0mself\u001b[0m\u001b[1;33m.\u001b[0m\u001b[0m_checkpoint\u001b[0m\u001b[1;33m.\u001b[0m\u001b[0mnew_restore_ops\u001b[0m\u001b[1;33m(\u001b[0m\u001b[0mrestore_ops\u001b[0m\u001b[1;33m)\u001b[0m\u001b[1;33m\u001b[0m\u001b[1;33m\u001b[0m\u001b[0m\n",
      "\u001b[1;32md:\\duter\\Documents\\JHU MSIS\\Spring 2021\\Deep Learning with Unstructured Data\\TensorFlow-NLG\\venv\\lib\\site-packages\\tensorflow\\python\\training\\tracking\\base.py\u001b[0m in \u001b[0;36m_restore_from_checkpoint_position\u001b[1;34m(self, checkpoint_position)\u001b[0m\n\u001b[0;32m    911\u001b[0m       \u001b[0mpython_saveables\u001b[0m\u001b[1;33m.\u001b[0m\u001b[0mextend\u001b[0m\u001b[1;33m(\u001b[0m\u001b[0mnew_python_saveables\u001b[0m\u001b[1;33m)\u001b[0m\u001b[1;33m\u001b[0m\u001b[1;33m\u001b[0m\u001b[0m\n\u001b[0;32m    912\u001b[0m     restore_ops.extend(\n\u001b[1;32m--> 913\u001b[1;33m         current_position.checkpoint.restore_saveables(\n\u001b[0m\u001b[0;32m    914\u001b[0m             tensor_saveables, python_saveables))\n\u001b[0;32m    915\u001b[0m     \u001b[1;32mreturn\u001b[0m \u001b[0mrestore_ops\u001b[0m\u001b[1;33m\u001b[0m\u001b[1;33m\u001b[0m\u001b[0m\n",
      "\u001b[1;32md:\\duter\\Documents\\JHU MSIS\\Spring 2021\\Deep Learning with Unstructured Data\\TensorFlow-NLG\\venv\\lib\\site-packages\\tensorflow\\python\\training\\tracking\\util.py\u001b[0m in \u001b[0;36mrestore_saveables\u001b[1;34m(self, tensor_saveables, python_saveables)\u001b[0m\n\u001b[0;32m    287\u001b[0m     \u001b[1;31m# If we have new SaveableObjects, extract and cache restore ops.\u001b[0m\u001b[1;33m\u001b[0m\u001b[1;33m\u001b[0m\u001b[1;33m\u001b[0m\u001b[0m\n\u001b[0;32m    288\u001b[0m     \u001b[1;32mif\u001b[0m \u001b[0mtensor_saveables\u001b[0m\u001b[1;33m:\u001b[0m\u001b[1;33m\u001b[0m\u001b[1;33m\u001b[0m\u001b[0m\n\u001b[1;32m--> 289\u001b[1;33m       validated_saveables = saveable_object_util.validate_and_slice_inputs(\n\u001b[0m\u001b[0;32m    290\u001b[0m           tensor_saveables)\n\u001b[0;32m    291\u001b[0m       \u001b[0mvalidated_names\u001b[0m \u001b[1;33m=\u001b[0m \u001b[0mset\u001b[0m\u001b[1;33m(\u001b[0m\u001b[0msaveable\u001b[0m\u001b[1;33m.\u001b[0m\u001b[0mname\u001b[0m \u001b[1;32mfor\u001b[0m \u001b[0msaveable\u001b[0m \u001b[1;32min\u001b[0m \u001b[0mvalidated_saveables\u001b[0m\u001b[1;33m)\u001b[0m\u001b[1;33m\u001b[0m\u001b[1;33m\u001b[0m\u001b[0m\n",
      "\u001b[1;32md:\\duter\\Documents\\JHU MSIS\\Spring 2021\\Deep Learning with Unstructured Data\\TensorFlow-NLG\\venv\\lib\\site-packages\\tensorflow\\python\\training\\saving\\saveable_object_util.py\u001b[0m in \u001b[0;36mvalidate_and_slice_inputs\u001b[1;34m(names_to_saveables)\u001b[0m\n\u001b[0;32m    359\u001b[0m                          key=lambda x: x[0]):\n\u001b[0;32m    360\u001b[0m     \u001b[1;32mfor\u001b[0m \u001b[0mconverted_saveable_object\u001b[0m \u001b[1;32min\u001b[0m \u001b[0msaveable_objects_for_op\u001b[0m\u001b[1;33m(\u001b[0m\u001b[0mop\u001b[0m\u001b[1;33m,\u001b[0m \u001b[0mname\u001b[0m\u001b[1;33m)\u001b[0m\u001b[1;33m:\u001b[0m\u001b[1;33m\u001b[0m\u001b[1;33m\u001b[0m\u001b[0m\n\u001b[1;32m--> 361\u001b[1;33m       \u001b[0m_add_saveable\u001b[0m\u001b[1;33m(\u001b[0m\u001b[0msaveables\u001b[0m\u001b[1;33m,\u001b[0m \u001b[0mseen_ops\u001b[0m\u001b[1;33m,\u001b[0m \u001b[0mconverted_saveable_object\u001b[0m\u001b[1;33m)\u001b[0m\u001b[1;33m\u001b[0m\u001b[1;33m\u001b[0m\u001b[0m\n\u001b[0m\u001b[0;32m    362\u001b[0m   \u001b[1;32mreturn\u001b[0m \u001b[0msaveables\u001b[0m\u001b[1;33m\u001b[0m\u001b[1;33m\u001b[0m\u001b[0m\n\u001b[0;32m    363\u001b[0m \u001b[1;33m\u001b[0m\u001b[0m\n",
      "\u001b[1;32md:\\duter\\Documents\\JHU MSIS\\Spring 2021\\Deep Learning with Unstructured Data\\TensorFlow-NLG\\venv\\lib\\site-packages\\tensorflow\\python\\training\\saving\\saveable_object_util.py\u001b[0m in \u001b[0;36m_add_saveable\u001b[1;34m(saveables, seen_ops, saveable)\u001b[0m\n\u001b[0;32m    328\u001b[0m   \"\"\"\n\u001b[0;32m    329\u001b[0m   \u001b[1;32mif\u001b[0m \u001b[0msaveable\u001b[0m\u001b[1;33m.\u001b[0m\u001b[0mop\u001b[0m \u001b[1;32min\u001b[0m \u001b[0mseen_ops\u001b[0m\u001b[1;33m:\u001b[0m\u001b[1;33m\u001b[0m\u001b[1;33m\u001b[0m\u001b[0m\n\u001b[1;32m--> 330\u001b[1;33m     raise ValueError(\"The same saveable will be restored with two names: %s\" %\n\u001b[0m\u001b[0;32m    331\u001b[0m                      saveable.name)\n\u001b[0;32m    332\u001b[0m   \u001b[0msaveables\u001b[0m\u001b[1;33m.\u001b[0m\u001b[0mappend\u001b[0m\u001b[1;33m(\u001b[0m\u001b[0msaveable\u001b[0m\u001b[1;33m)\u001b[0m\u001b[1;33m\u001b[0m\u001b[1;33m\u001b[0m\u001b[0m\n",
      "\u001b[1;31mValueError\u001b[0m: The same saveable will be restored with two names: ids_from_chars/_table/.ATTRIBUTES/table"
     ]
    }
   ],
   "source": [
    "tf.saved_model.save(one_step_model, 'one_step')\n",
    "one_step_reloaded = tf.saved_model.load('one_step')"
   ]
  },
  {
   "cell_type": "code",
   "execution_count": 46,
   "metadata": {
    "execution": {
     "iopub.execute_input": "2021-01-08T06:04:47.741563Z",
     "iopub.status.busy": "2021-01-08T06:04:47.739809Z",
     "iopub.status.idle": "2021-01-08T06:04:48.050749Z",
     "shell.execute_reply": "2021-01-08T06:04:48.050132Z"
    },
    "id": "_Z9bb_wX6Uuu"
   },
   "outputs": [
    {
     "output_type": "error",
     "ename": "NameError",
     "evalue": "name 'one_step_reloaded' is not defined",
     "traceback": [
      "\u001b[1;31m---------------------------------------------------------------------------\u001b[0m",
      "\u001b[1;31mNameError\u001b[0m                                 Traceback (most recent call last)",
      "\u001b[1;32m<ipython-input-46-7f68b91d1b29>\u001b[0m in \u001b[0;36m<module>\u001b[1;34m\u001b[0m\n\u001b[0;32m      4\u001b[0m \u001b[1;33m\u001b[0m\u001b[0m\n\u001b[0;32m      5\u001b[0m \u001b[1;32mfor\u001b[0m \u001b[0mn\u001b[0m \u001b[1;32min\u001b[0m \u001b[0mrange\u001b[0m\u001b[1;33m(\u001b[0m\u001b[1;36m100\u001b[0m\u001b[1;33m)\u001b[0m\u001b[1;33m:\u001b[0m\u001b[1;33m\u001b[0m\u001b[1;33m\u001b[0m\u001b[0m\n\u001b[1;32m----> 6\u001b[1;33m   \u001b[0mnext_char\u001b[0m\u001b[1;33m,\u001b[0m \u001b[0mstates\u001b[0m \u001b[1;33m=\u001b[0m \u001b[0mone_step_reloaded\u001b[0m\u001b[1;33m.\u001b[0m\u001b[0mgenerate_one_step\u001b[0m\u001b[1;33m(\u001b[0m\u001b[0mnext_char\u001b[0m\u001b[1;33m,\u001b[0m \u001b[0mstates\u001b[0m\u001b[1;33m=\u001b[0m\u001b[0mstates\u001b[0m\u001b[1;33m)\u001b[0m\u001b[1;33m\u001b[0m\u001b[1;33m\u001b[0m\u001b[0m\n\u001b[0m\u001b[0;32m      7\u001b[0m   \u001b[0mresult\u001b[0m\u001b[1;33m.\u001b[0m\u001b[0mappend\u001b[0m\u001b[1;33m(\u001b[0m\u001b[0mnext_char\u001b[0m\u001b[1;33m)\u001b[0m\u001b[1;33m\u001b[0m\u001b[1;33m\u001b[0m\u001b[0m\n\u001b[0;32m      8\u001b[0m \u001b[1;33m\u001b[0m\u001b[0m\n",
      "\u001b[1;31mNameError\u001b[0m: name 'one_step_reloaded' is not defined"
     ]
    }
   ],
   "source": [
    "states = None\n",
    "next_char = tf.constant(['ROMEO:'])\n",
    "result = [next_char]\n",
    "\n",
    "for n in range(100):\n",
    "  next_char, states = one_step_reloaded.generate_one_step(next_char, states=states)\n",
    "  result.append(next_char)\n",
    "\n",
    "print(tf.strings.join(result)[0].numpy().decode(\"utf-8\"))"
   ]
  },
  {
   "cell_type": "markdown",
   "metadata": {
    "id": "Y4QwTjAM6A2O"
   },
   "source": [
    "## Advanced: Customized Training\n",
    "\n",
    "The above training procedure is simple, but does not give you much control.\n",
    "It uses teacher-forcing which prevents bad predictions from being fed back to the model so the model never learns to recover from mistakes.\n",
    "\n",
    "So now that you've seen how to run the model manually next you'll implement the training loop. This gives a starting point if, for example, you want to implement _curriculum  learning_ to help stabilize the model's open-loop output.\n",
    "\n",
    "The most important part of a custom training loop is the train step function.\n",
    "\n",
    "Use `tf.GradientTape` to track the gradients. You can learn more about this approach by reading the [eager execution guide](https://www.tensorflow.org/guide/eager).\n",
    "\n",
    "The basic procedure is:\n",
    "\n",
    "1. Execute the model and calculate the loss under a `tf.GradientTape`.\n",
    "2. Calculate the updates and apply them to the model using the optimizer."
   ]
  },
  {
   "cell_type": "code",
   "execution_count": 47,
   "metadata": {
    "execution": {
     "iopub.execute_input": "2021-01-08T06:04:48.056318Z",
     "iopub.status.busy": "2021-01-08T06:04:48.055718Z",
     "iopub.status.idle": "2021-01-08T06:04:48.057991Z",
     "shell.execute_reply": "2021-01-08T06:04:48.057531Z"
    },
    "id": "x0pZ101hjwW0"
   },
   "outputs": [],
   "source": [
    "class CustomTraining(MyModel):\n",
    "  @tf.function\n",
    "  def train_step(self, inputs):\n",
    "      inputs, labels = inputs\n",
    "      with tf.GradientTape() as tape:\n",
    "          predictions = self(inputs, training=True)\n",
    "          loss = self.loss(labels, predictions)\n",
    "      grads = tape.gradient(loss, model.trainable_variables)\n",
    "      self.optimizer.apply_gradients(zip(grads, model.trainable_variables))\n",
    "\n",
    "      return {'loss': loss}"
   ]
  },
  {
   "cell_type": "markdown",
   "metadata": {
    "id": "4Oc-eJALcK8B"
   },
   "source": [
    "The above implementation of the `train_step` method follows [Keras' `train_step` conventions](https://www.tensorflow.org/guide/keras/customizing_what_happens_in_fit). This is optional, but it allows you to change the behavior of the train step and still use keras' `Model.compile` and `Model.fit` methods."
   ]
  },
  {
   "cell_type": "code",
   "execution_count": 48,
   "metadata": {
    "execution": {
     "iopub.execute_input": "2021-01-08T06:04:48.063551Z",
     "iopub.status.busy": "2021-01-08T06:04:48.061308Z",
     "iopub.status.idle": "2021-01-08T06:04:48.070706Z",
     "shell.execute_reply": "2021-01-08T06:04:48.071059Z"
    },
    "id": "XKyWiZ_Lj7w5"
   },
   "outputs": [],
   "source": [
    "model = CustomTraining(\n",
    "    vocab_size=len(ids_from_chars.get_vocabulary()),\n",
    "    embedding_dim=embedding_dim,\n",
    "    rnn_units=rnn_units)"
   ]
  },
  {
   "cell_type": "code",
   "execution_count": 49,
   "metadata": {
    "execution": {
     "iopub.execute_input": "2021-01-08T06:04:48.079481Z",
     "iopub.status.busy": "2021-01-08T06:04:48.078873Z",
     "iopub.status.idle": "2021-01-08T06:04:48.082193Z",
     "shell.execute_reply": "2021-01-08T06:04:48.082538Z"
    },
    "id": "U817KUm7knlm"
   },
   "outputs": [],
   "source": [
    "model.compile(optimizer = tf.keras.optimizers.Adam(),\n",
    "              loss=tf.keras.losses.SparseCategoricalCrossentropy(from_logits=True))"
   ]
  },
  {
   "cell_type": "code",
   "execution_count": 50,
   "metadata": {
    "execution": {
     "iopub.execute_input": "2021-01-08T06:04:48.086328Z",
     "iopub.status.busy": "2021-01-08T06:04:48.085795Z",
     "iopub.status.idle": "2021-01-08T06:05:03.452918Z",
     "shell.execute_reply": "2021-01-08T06:05:03.452460Z"
    },
    "id": "o694aoBPnEi9"
   },
   "outputs": [
    {
     "output_type": "stream",
     "name": "stdout",
     "text": [
      "172/172 [==============================] - 23s 135ms/step - loss: 2.7375\n"
     ]
    },
    {
     "output_type": "execute_result",
     "data": {
      "text/plain": [
       "<tensorflow.python.keras.callbacks.History at 0x226e0c6c1f0>"
      ]
     },
     "metadata": {},
     "execution_count": 50
    }
   ],
   "source": [
    "model.fit(dataset, epochs=1)"
   ]
  },
  {
   "cell_type": "markdown",
   "metadata": {
    "id": "W8nAtKHVoInR"
   },
   "source": [
    "Or if you need more control, you can write your own complete custom training loop:"
   ]
  },
  {
   "cell_type": "code",
   "execution_count": 51,
   "metadata": {
    "execution": {
     "iopub.execute_input": "2021-01-08T06:05:03.464852Z",
     "iopub.status.busy": "2021-01-08T06:05:03.464243Z",
     "iopub.status.idle": "2021-01-08T06:07:22.186888Z",
     "shell.execute_reply": "2021-01-08T06:07:22.186326Z"
    },
    "id": "d4tSNwymzf-q"
   },
   "outputs": [
    {
     "output_type": "stream",
     "name": "stdout",
     "text": [
      "Epoch 1 Batch 0 Loss 2.186148166656494\n",
      "Epoch 1 Batch 50 Loss 2.0643439292907715\n",
      "Epoch 1 Batch 100 Loss 1.9541171789169312\n",
      "Epoch 1 Batch 150 Loss 1.8748458623886108\n",
      "\n",
      "Epoch 1 Loss: 1.9980\n",
      "Time taken for 1 epoch 24.78657054901123 sec\n",
      "________________________________________________________________________________\n",
      "Epoch 2 Batch 0 Loss 1.818870186805725\n",
      "Epoch 2 Batch 50 Loss 1.748838186264038\n",
      "Epoch 2 Batch 100 Loss 1.691164493560791\n",
      "Epoch 2 Batch 150 Loss 1.5822399854660034\n",
      "\n",
      "Epoch 2 Loss: 1.7222\n",
      "Time taken for 1 epoch 24.145630598068237 sec\n",
      "________________________________________________________________________________\n",
      "Epoch 3 Batch 0 Loss 1.6068482398986816\n",
      "Epoch 3 Batch 50 Loss 1.594293475151062\n",
      "Epoch 3 Batch 100 Loss 1.5978164672851562\n",
      "Epoch 3 Batch 150 Loss 1.5570058822631836\n",
      "\n",
      "Epoch 3 Loss: 1.5598\n",
      "Time taken for 1 epoch 23.928423643112183 sec\n",
      "________________________________________________________________________________\n",
      "Epoch 4 Batch 0 Loss 1.4443902969360352\n",
      "Epoch 4 Batch 50 Loss 1.4706084728240967\n",
      "Epoch 4 Batch 100 Loss 1.482805609703064\n",
      "Epoch 4 Batch 150 Loss 1.460911750793457\n",
      "\n",
      "Epoch 4 Loss: 1.4606\n",
      "Time taken for 1 epoch 23.77904963493347 sec\n",
      "________________________________________________________________________________\n",
      "Epoch 5 Batch 0 Loss 1.395521879196167\n",
      "Epoch 5 Batch 50 Loss 1.396172046661377\n",
      "Epoch 5 Batch 100 Loss 1.3854352235794067\n",
      "Epoch 5 Batch 150 Loss 1.4363069534301758\n",
      "\n",
      "Epoch 5 Loss: 1.3909\n",
      "Time taken for 1 epoch 24.300562858581543 sec\n",
      "________________________________________________________________________________\n",
      "Epoch 6 Batch 0 Loss 1.2942789793014526\n",
      "Epoch 6 Batch 50 Loss 1.329352855682373\n",
      "Epoch 6 Batch 100 Loss 1.3755282163619995\n",
      "Epoch 6 Batch 150 Loss 1.3154913187026978\n",
      "\n",
      "Epoch 6 Loss: 1.3380\n",
      "Time taken for 1 epoch 24.931127309799194 sec\n",
      "________________________________________________________________________________\n",
      "Epoch 7 Batch 0 Loss 1.294600486755371\n",
      "Epoch 7 Batch 50 Loss 1.2898681163787842\n",
      "Epoch 7 Batch 100 Loss 1.3076865673065186\n",
      "Epoch 7 Batch 150 Loss 1.293564796447754\n",
      "\n",
      "Epoch 7 Loss: 1.2930\n",
      "Time taken for 1 epoch 24.95268726348877 sec\n",
      "________________________________________________________________________________\n",
      "Epoch 8 Batch 0 Loss 1.2813180685043335\n",
      "Epoch 8 Batch 50 Loss 1.2299773693084717\n",
      "Epoch 8 Batch 100 Loss 1.233413815498352\n",
      "Epoch 8 Batch 150 Loss 1.2701592445373535\n",
      "\n",
      "Epoch 8 Loss: 1.2513\n",
      "Time taken for 1 epoch 23.89566397666931 sec\n",
      "________________________________________________________________________________\n",
      "Epoch 9 Batch 0 Loss 1.211959719657898\n",
      "Epoch 9 Batch 50 Loss 1.2212824821472168\n",
      "Epoch 9 Batch 100 Loss 1.2035847902297974\n",
      "Epoch 9 Batch 150 Loss 1.2096823453903198\n",
      "\n",
      "Epoch 9 Loss: 1.2116\n",
      "Time taken for 1 epoch 23.739153385162354 sec\n",
      "________________________________________________________________________________\n",
      "Epoch 10 Batch 0 Loss 1.1205079555511475\n",
      "Epoch 10 Batch 50 Loss 1.1464869976043701\n",
      "Epoch 10 Batch 100 Loss 1.2023627758026123\n",
      "Epoch 10 Batch 150 Loss 1.2116018533706665\n",
      "\n",
      "Epoch 10 Loss: 1.1732\n",
      "Time taken for 1 epoch 23.897676467895508 sec\n",
      "________________________________________________________________________________\n"
     ]
    }
   ],
   "source": [
    "EPOCHS = 10\n",
    "\n",
    "mean = tf.metrics.Mean()\n",
    "\n",
    "for epoch in range(EPOCHS):\n",
    "    start = time.time()\n",
    "\n",
    "    mean.reset_states()\n",
    "    for (batch_n, (inp, target)) in enumerate(dataset):\n",
    "        logs = model.train_step([inp, target])\n",
    "        mean.update_state(logs['loss'])\n",
    "\n",
    "        if batch_n % 50 == 0:\n",
    "            template = 'Epoch {} Batch {} Loss {}'\n",
    "            print(template.format(epoch + 1, batch_n, logs['loss']))\n",
    "\n",
    "    # saving (checkpoint) the model every 5 epochs\n",
    "    if (epoch + 1) % 5 == 0:\n",
    "        model.save_weights(checkpoint_prefix.format(epoch=epoch))\n",
    "\n",
    "    print()\n",
    "    print('Epoch {} Loss: {:.4f}'.format(epoch + 1, mean.result().numpy()))\n",
    "    print('Time taken for 1 epoch {} sec'.format(time.time() - start))\n",
    "    print(\"_\"*80)\n",
    "\n",
    "model.save_weights(checkpoint_prefix.format(epoch=epoch))"
   ]
  },
  {
   "cell_type": "code",
   "execution_count": null,
   "metadata": {},
   "outputs": [],
   "source": []
  }
 ],
 "metadata": {
  "accelerator": "GPU",
  "colab": {
   "collapsed_sections": [],
   "name": "text_generation.ipynb",
   "toc_visible": true
  },
  "kernelspec": {
   "name": "python3",
   "display_name": "Python 3.8.5 64-bit ('venv')",
   "metadata": {
    "interpreter": {
     "hash": "26ec198dce9e9bbd001c2bb1c3083b27bb7a8a9105bf7545be2b8701a174e200"
    }
   }
  },
  "language_info": {
   "codemirror_mode": {
    "name": "ipython",
    "version": 3
   },
   "file_extension": ".py",
   "mimetype": "text/x-python",
   "name": "python",
   "nbconvert_exporter": "python",
   "pygments_lexer": "ipython3",
   "version": "3.8.5-final"
  }
 },
 "nbformat": 4,
 "nbformat_minor": 0
}